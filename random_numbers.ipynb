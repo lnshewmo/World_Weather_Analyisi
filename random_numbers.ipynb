{
 "cells": [
  {
   "cell_type": "markdown",
   "id": "8c72d34f",
   "metadata": {},
   "source": [
    "# Random Numbers using Random Module\n",
    "# https://docs.python.org/3/library/random.html"
   ]
  },
  {
   "cell_type": "code",
   "execution_count": 1,
   "id": "559ee0e7",
   "metadata": {},
   "outputs": [],
   "source": [
    "import random\n",
    "# contains many methods to generate random nums"
   ]
  },
  {
   "cell_type": "code",
   "execution_count": 2,
   "id": "c7cd2884",
   "metadata": {},
   "outputs": [
    {
     "data": {
      "text/plain": [
       "0.4651243711679184"
      ]
     },
     "execution_count": 2,
     "metadata": {},
     "output_type": "execute_result"
    }
   ],
   "source": [
    "random.random()\n",
    "# creates one float between 0-1"
   ]
  },
  {
   "cell_type": "code",
   "execution_count": 6,
   "id": "a0e343fe",
   "metadata": {},
   "outputs": [
    {
     "data": {
      "text/plain": [
       "37"
      ]
     },
     "execution_count": 6,
     "metadata": {},
     "output_type": "execute_result"
    }
   ],
   "source": [
    "# random integer within a specific range up to and including\n",
    "# requries 2 arguments\n",
    "random.randint(-90,90)"
   ]
  },
  {
   "cell_type": "code",
   "execution_count": 4,
   "id": "c9a543e1",
   "metadata": {},
   "outputs": [
    {
     "data": {
      "text/plain": [
       "5"
      ]
     },
     "execution_count": 4,
     "metadata": {},
     "output_type": "execute_result"
    }
   ],
   "source": [
    "# random integer within the range, with step interval\n",
    "random.randrange(-90,90,step=2)"
   ]
  },
  {
   "cell_type": "code",
   "execution_count": 5,
   "id": "e8424aba",
   "metadata": {},
   "outputs": [
    {
     "data": {
      "text/plain": [
       "5.8259748961427"
      ]
     },
     "execution_count": 5,
     "metadata": {},
     "output_type": "execute_result"
    }
   ],
   "source": [
    "# one float value within the range\n",
    "# can be rounded\n",
    "random.uniform(-10,10)"
   ]
  },
  {
   "cell_type": "code",
   "execution_count": 8,
   "id": "ae0325cb",
   "metadata": {},
   "outputs": [
    {
     "data": {
      "text/plain": [
       "78.76539865549682"
      ]
     },
     "execution_count": 8,
     "metadata": {},
     "output_type": "execute_result"
    }
   ],
   "source": [
    "random_num = random.randint(-90,89) + random.random()\n",
    "random_num"
   ]
  },
  {
   "cell_type": "code",
   "execution_count": 9,
   "id": "d023aada",
   "metadata": {},
   "outputs": [
    {
     "name": "stdout",
     "output_type": "stream",
     "text": [
      "[-24.221862993755664, -41.243507401473494, -50.56513985672545, 13.618529128223901, -37.169882940458876, 61.390285768783286, 34.26709985689153, -57.27273100645741, -4.182041476318332, 6.974272290677752]\n"
     ]
    }
   ],
   "source": [
    "# assign variable x=1\n",
    "x=1\n",
    "# initialize empty list\n",
    "latitudes = []\n",
    "# create while loop \n",
    "while x < 11:\n",
    "    # generate a random latitude\n",
    "    random_lat = random.randint(-90,89) + random.random()\n",
    "    # add it to the list\n",
    "    latitudes.append(random_lat)\n",
    "    # add one to the variable x\n",
    "    x += 1\n",
    "    # the while loop is checked again and will repeat as long as x < 11\n",
    "    # this will produce 10 latitudes\n",
    "print(latitudes)    "
   ]
  },
  {
   "cell_type": "code",
   "execution_count": 11,
   "id": "cdb1e349",
   "metadata": {},
   "outputs": [
    {
     "name": "stdout",
     "output_type": "stream",
     "text": [
      "[-5, -83, -3, -90, -52, 20, 4, -28, -20, -9]\n"
     ]
    }
   ],
   "source": [
    "# same function using random.randrange()\n",
    "\n",
    "x =1\n",
    "latitudes = []\n",
    "while x < 11:\n",
    "    random_lat = random.randrange(-90,89)\n",
    "    latitudes.append(random_lat)\n",
    "    x += 1\n",
    "print(latitudes)\n"
   ]
  },
  {
   "cell_type": "code",
   "execution_count": 12,
   "id": "2d20790f",
   "metadata": {},
   "outputs": [],
   "source": [
    "# numpy has a built in random module\n",
    "import numpy as np"
   ]
  },
  {
   "cell_type": "code",
   "execution_count": 13,
   "id": "a0983ec2",
   "metadata": {},
   "outputs": [
    {
     "data": {
      "text/plain": [
       "23.80644496562165"
      ]
     },
     "execution_count": 13,
     "metadata": {},
     "output_type": "execute_result"
    }
   ],
   "source": [
    "# chain .uniform function from the random module\n",
    "# returns one float within the range\n",
    "np.random.uniform(-90,90)"
   ]
  },
  {
   "cell_type": "code",
   "execution_count": 14,
   "id": "5edf20b9",
   "metadata": {},
   "outputs": [],
   "source": [
    "import timeit"
   ]
  },
  {
   "cell_type": "code",
   "execution_count": 15,
   "id": "e4a9c391",
   "metadata": {},
   "outputs": [
    {
     "name": "stdout",
     "output_type": "stream",
     "text": [
      "9.41 µs ± 54 ns per loop (mean ± std. dev. of 7 runs, 100,000 loops each)\n"
     ]
    }
   ],
   "source": [
    "# use magic %timeit to see how long it takes to run this\n",
    "\n",
    "%timeit np.random.uniform(-90,90, size=1500)"
   ]
  },
  {
   "cell_type": "code",
   "execution_count": 16,
   "id": "36bb8365",
   "metadata": {},
   "outputs": [
    {
     "name": "stdout",
     "output_type": "stream",
     "text": [
      "5.71 µs ± 21.3 ns per loop (mean ± std. dev. of 7 runs, 100,000 loops each)\n"
     ]
    }
   ],
   "source": [
    "# time the while loop\n",
    "\n",
    "def latitudes(size):\n",
    "    x=0\n",
    "    latitudes = []\n",
    "    while x < 11:\n",
    "        random_lat = random.randrange(-90,89)\n",
    "        latitudes.append(random_lat)\n",
    "        x += 1\n",
    "    return latitudes\n",
    "\n",
    "%timeit latitudes(1500)"
   ]
  },
  {
   "cell_type": "code",
   "execution_count": 17,
   "id": "41967553",
   "metadata": {},
   "outputs": [
    {
     "name": "stdout",
     "output_type": "stream",
     "text": [
      "7.04 µs ± 10.3 ns per loop (mean ± std. dev. of 7 runs, 100,000 loops each)\n"
     ]
    }
   ],
   "source": [
    "# time the while loop\n",
    "\n",
    "def latitudes(size):\n",
    "    x=0\n",
    "    latitudes = []\n",
    "    while x < 11:\n",
    "        #random_lat = random.randrange(-90,89)\n",
    "        random_lat = random.randint(-90, 90) + random.random()\n",
    "        latitudes.append(random_lat)\n",
    "        x += 1\n",
    "    return latitudes\n",
    "\n",
    "%timeit latitudes(1500)"
   ]
  }
 ],
 "metadata": {
  "kernelspec": {
   "display_name": "PythonData",
   "language": "python",
   "name": "pythondata"
  },
  "language_info": {
   "codemirror_mode": {
    "name": "ipython",
    "version": 3
   },
   "file_extension": ".py",
   "mimetype": "text/x-python",
   "name": "python",
   "nbconvert_exporter": "python",
   "pygments_lexer": "ipython3",
   "version": "3.9.12"
  }
 },
 "nbformat": 4,
 "nbformat_minor": 5
}
